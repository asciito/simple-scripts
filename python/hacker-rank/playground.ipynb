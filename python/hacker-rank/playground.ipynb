{
 "metadata": {
  "language_info": {
   "codemirror_mode": {
    "name": "ipython",
    "version": 3
   },
   "file_extension": ".py",
   "mimetype": "text/x-python",
   "name": "python",
   "nbconvert_exporter": "python",
   "pygments_lexer": "ipython3",
   "version": "3.8.2"
  },
  "orig_nbformat": 4,
  "kernelspec": {
   "name": "python3",
   "display_name": "Python 3.8.2 64-bit"
  },
  "interpreter": {
   "hash": "5edc29c2ed010d6458d71a83433b383a96a8cbd3efe8531bc90c4b8a5b8bcec9"
  }
 },
 "nbformat": 4,
 "nbformat_minor": 2,
 "cells": [
  {
   "cell_type": "code",
   "execution_count": 83,
   "metadata": {},
   "outputs": [
    {
     "output_type": "stream",
     "name": "stdout",
     "text": [
      "abcdefghijklmnopqrstuvwxyz"
     ]
    }
   ],
   "source": [
    "a = ord('a')\n",
    "z = ord('z')\n",
    "\n",
    "for c in range(a, z + 1):\n",
    "    print(chr(c), end='')"
   ]
  },
  {
   "cell_type": "code",
   "execution_count": 240,
   "metadata": {},
   "outputs": [],
   "source": [
    "def printAlphabet(size):\n",
    "    a      = ord('a')\n",
    "    output = ''\n",
    "    piramid = []\n",
    "\n",
    "    if (0 >= size or size > 26 or size == 1):\n",
    "        print('a')\n",
    "    else:\n",
    "        for c in range(a + size - 1, a - 1, -1):\n",
    "            output = chr(c) + output\n",
    "            piramid.append((output[len(output):0:-1] + output).center(size + size - 1, '-'))\n",
    "        \n",
    "        for step in piramid[len(piramid) - 2::-1]:\n",
    "            piramid.append(step)\n",
    "        \n",
    "        for char in [*piramid]:\n",
    "            print(*char, sep=\"-\")"
   ]
  },
  {
   "cell_type": "code",
   "execution_count": 231,
   "metadata": {},
   "outputs": [
    {
     "output_type": "stream",
     "name": "stdout",
     "text": [
      "----c----\n--c-b-c--\nc-b-a-b-c\n--c-b-c--\n----c----\n"
     ]
    }
   ],
   "source": [
    "printAlphabet(3)"
   ]
  },
  {
   "cell_type": "code",
   "execution_count": 215,
   "metadata": {},
   "outputs": [
    {
     "output_type": "stream",
     "name": "stdout",
     "text": [
      "--------e--------\n------e-d-e------\n----e-d-c-d-e----\n--e-d-c-b-c-d-e--\ne-d-c-b-a-b-c-d-e\n--e-d-c-b-c-d-e--\n----e-d-c-d-e----\n------e-d-e------\n--------e--------\n"
     ]
    }
   ],
   "source": [
    "printAlphabet(5)"
   ]
  },
  {
   "cell_type": "code",
   "execution_count": 222,
   "metadata": {},
   "outputs": [
    {
     "output_type": "stream",
     "name": "stdout",
     "text": [
      "------------------j------------------\n----------------j-i-j----------------\n--------------j-i-h-i-j--------------\n------------j-i-h-g-h-i-j------------\n----------j-i-h-g-f-g-h-i-j----------\n--------j-i-h-g-f-e-f-g-h-i-j--------\n------j-i-h-g-f-e-d-e-f-g-h-i-j------\n----j-i-h-g-f-e-d-c-d-e-f-g-h-i-j----\n--j-i-h-g-f-e-d-c-b-c-d-e-f-g-h-i-j--\nj-i-h-g-f-e-d-c-b-a-b-c-d-e-f-g-h-i-j\n--j-i-h-g-f-e-d-c-b-c-d-e-f-g-h-i-j--\n----j-i-h-g-f-e-d-c-d-e-f-g-h-i-j----\n------j-i-h-g-f-e-d-e-f-g-h-i-j------\n--------j-i-h-g-f-e-f-g-h-i-j--------\n----------j-i-h-g-f-g-h-i-j----------\n------------j-i-h-g-h-i-j------------\n--------------j-i-h-i-j--------------\n----------------j-i-j----------------\n------------------j------------------\n"
     ]
    }
   ],
   "source": [
    "printAlphabet(10)"
   ]
  },
  {
   "cell_type": "code",
   "execution_count": 224,
   "metadata": {},
   "outputs": [
    {
     "output_type": "stream",
     "name": "stdout",
     "text": [
      "----------------------------o----------------------------\n--------------------------o-n-o--------------------------\n------------------------o-n-m-n-o------------------------\n----------------------o-n-m-l-m-n-o----------------------\n--------------------o-n-m-l-k-l-m-n-o--------------------\n------------------o-n-m-l-k-j-k-l-m-n-o------------------\n----------------o-n-m-l-k-j-i-j-k-l-m-n-o----------------\n--------------o-n-m-l-k-j-i-h-i-j-k-l-m-n-o--------------\n------------o-n-m-l-k-j-i-h-g-h-i-j-k-l-m-n-o------------\n----------o-n-m-l-k-j-i-h-g-f-g-h-i-j-k-l-m-n-o----------\n--------o-n-m-l-k-j-i-h-g-f-e-f-g-h-i-j-k-l-m-n-o--------\n------o-n-m-l-k-j-i-h-g-f-e-d-e-f-g-h-i-j-k-l-m-n-o------\n----o-n-m-l-k-j-i-h-g-f-e-d-c-d-e-f-g-h-i-j-k-l-m-n-o----\n--o-n-m-l-k-j-i-h-g-f-e-d-c-b-c-d-e-f-g-h-i-j-k-l-m-n-o--\no-n-m-l-k-j-i-h-g-f-e-d-c-b-a-b-c-d-e-f-g-h-i-j-k-l-m-n-o\n--o-n-m-l-k-j-i-h-g-f-e-d-c-b-c-d-e-f-g-h-i-j-k-l-m-n-o--\n----o-n-m-l-k-j-i-h-g-f-e-d-c-d-e-f-g-h-i-j-k-l-m-n-o----\n------o-n-m-l-k-j-i-h-g-f-e-d-e-f-g-h-i-j-k-l-m-n-o------\n--------o-n-m-l-k-j-i-h-g-f-e-f-g-h-i-j-k-l-m-n-o--------\n----------o-n-m-l-k-j-i-h-g-f-g-h-i-j-k-l-m-n-o----------\n------------o-n-m-l-k-j-i-h-g-h-i-j-k-l-m-n-o------------\n--------------o-n-m-l-k-j-i-h-i-j-k-l-m-n-o--------------\n----------------o-n-m-l-k-j-i-j-k-l-m-n-o----------------\n------------------o-n-m-l-k-j-k-l-m-n-o------------------\n--------------------o-n-m-l-k-l-m-n-o--------------------\n----------------------o-n-m-l-m-n-o----------------------\n------------------------o-n-m-n-o------------------------\n--------------------------o-n-o--------------------------\n----------------------------o----------------------------\n"
     ]
    }
   ],
   "source": [
    "printAlphabet(15)"
   ]
  },
  {
   "cell_type": "code",
   "execution_count": 225,
   "metadata": {},
   "outputs": [
    {
     "output_type": "stream",
     "name": "stdout",
     "text": [
      "--------------------------------------t--------------------------------------\n",
      "------------------------------------t-s-t------------------------------------\n",
      "----------------------------------t-s-r-s-t----------------------------------\n",
      "--------------------------------t-s-r-q-r-s-t--------------------------------\n",
      "------------------------------t-s-r-q-p-q-r-s-t------------------------------\n",
      "----------------------------t-s-r-q-p-o-p-q-r-s-t----------------------------\n",
      "--------------------------t-s-r-q-p-o-n-o-p-q-r-s-t--------------------------\n",
      "------------------------t-s-r-q-p-o-n-m-n-o-p-q-r-s-t------------------------\n",
      "----------------------t-s-r-q-p-o-n-m-l-m-n-o-p-q-r-s-t----------------------\n",
      "--------------------t-s-r-q-p-o-n-m-l-k-l-m-n-o-p-q-r-s-t--------------------\n",
      "------------------t-s-r-q-p-o-n-m-l-k-j-k-l-m-n-o-p-q-r-s-t------------------\n",
      "----------------t-s-r-q-p-o-n-m-l-k-j-i-j-k-l-m-n-o-p-q-r-s-t----------------\n",
      "--------------t-s-r-q-p-o-n-m-l-k-j-i-h-i-j-k-l-m-n-o-p-q-r-s-t--------------\n",
      "------------t-s-r-q-p-o-n-m-l-k-j-i-h-g-h-i-j-k-l-m-n-o-p-q-r-s-t------------\n",
      "----------t-s-r-q-p-o-n-m-l-k-j-i-h-g-f-g-h-i-j-k-l-m-n-o-p-q-r-s-t----------\n",
      "--------t-s-r-q-p-o-n-m-l-k-j-i-h-g-f-e-f-g-h-i-j-k-l-m-n-o-p-q-r-s-t--------\n",
      "------t-s-r-q-p-o-n-m-l-k-j-i-h-g-f-e-d-e-f-g-h-i-j-k-l-m-n-o-p-q-r-s-t------\n",
      "----t-s-r-q-p-o-n-m-l-k-j-i-h-g-f-e-d-c-d-e-f-g-h-i-j-k-l-m-n-o-p-q-r-s-t----\n",
      "--t-s-r-q-p-o-n-m-l-k-j-i-h-g-f-e-d-c-b-c-d-e-f-g-h-i-j-k-l-m-n-o-p-q-r-s-t--\n",
      "t-s-r-q-p-o-n-m-l-k-j-i-h-g-f-e-d-c-b-a-b-c-d-e-f-g-h-i-j-k-l-m-n-o-p-q-r-s-t\n",
      "--t-s-r-q-p-o-n-m-l-k-j-i-h-g-f-e-d-c-b-c-d-e-f-g-h-i-j-k-l-m-n-o-p-q-r-s-t--\n",
      "----t-s-r-q-p-o-n-m-l-k-j-i-h-g-f-e-d-c-d-e-f-g-h-i-j-k-l-m-n-o-p-q-r-s-t----\n",
      "------t-s-r-q-p-o-n-m-l-k-j-i-h-g-f-e-d-e-f-g-h-i-j-k-l-m-n-o-p-q-r-s-t------\n",
      "--------t-s-r-q-p-o-n-m-l-k-j-i-h-g-f-e-f-g-h-i-j-k-l-m-n-o-p-q-r-s-t--------\n",
      "----------t-s-r-q-p-o-n-m-l-k-j-i-h-g-f-g-h-i-j-k-l-m-n-o-p-q-r-s-t----------\n",
      "------------t-s-r-q-p-o-n-m-l-k-j-i-h-g-h-i-j-k-l-m-n-o-p-q-r-s-t------------\n",
      "--------------t-s-r-q-p-o-n-m-l-k-j-i-h-i-j-k-l-m-n-o-p-q-r-s-t--------------\n",
      "----------------t-s-r-q-p-o-n-m-l-k-j-i-j-k-l-m-n-o-p-q-r-s-t----------------\n",
      "------------------t-s-r-q-p-o-n-m-l-k-j-k-l-m-n-o-p-q-r-s-t------------------\n",
      "--------------------t-s-r-q-p-o-n-m-l-k-l-m-n-o-p-q-r-s-t--------------------\n",
      "----------------------t-s-r-q-p-o-n-m-l-m-n-o-p-q-r-s-t----------------------\n",
      "------------------------t-s-r-q-p-o-n-m-n-o-p-q-r-s-t------------------------\n",
      "--------------------------t-s-r-q-p-o-n-o-p-q-r-s-t--------------------------\n",
      "----------------------------t-s-r-q-p-o-p-q-r-s-t----------------------------\n",
      "------------------------------t-s-r-q-p-q-r-s-t------------------------------\n",
      "--------------------------------t-s-r-q-r-s-t--------------------------------\n",
      "----------------------------------t-s-r-s-t----------------------------------\n",
      "------------------------------------t-s-t------------------------------------\n",
      "--------------------------------------t--------------------------------------\n"
     ]
    }
   ],
   "source": [
    "printAlphabet(20)"
   ]
  },
  {
   "cell_type": "code",
   "execution_count": 239,
   "metadata": {},
   "outputs": [
    {
     "output_type": "stream",
     "name": "stdout",
     "text": [
      "--b--\nb-a-b\n--b--\n"
     ]
    }
   ],
   "source": [
    "printAlphabet(2)"
   ]
  },
  {
   "cell_type": "code",
   "execution_count": 241,
   "metadata": {},
   "outputs": [
    {
     "output_type": "stream",
     "name": "stdout",
     "text": [
      "a\n"
     ]
    }
   ],
   "source": [
    "printAlphabet(1)"
   ]
  },
  {
   "cell_type": "code",
   "execution_count": null,
   "metadata": {},
   "outputs": [],
   "source": []
  }
 ]
}