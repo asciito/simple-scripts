{
 "metadata": {
  "language_info": {
   "codemirror_mode": {
    "name": "ipython",
    "version": 3
   },
   "file_extension": ".py",
   "mimetype": "text/x-python",
   "name": "python",
   "nbconvert_exporter": "python",
   "pygments_lexer": "ipython3",
   "version": "3.8.2"
  },
  "orig_nbformat": 4,
  "kernelspec": {
   "name": "python3",
   "display_name": "Python 3.8.2 64-bit ('usr')"
  },
  "interpreter": {
   "hash": "5edc29c2ed010d6458d71a83433b383a96a8cbd3efe8531bc90c4b8a5b8bcec9"
  }
 },
 "nbformat": 4,
 "nbformat_minor": 2,
 "cells": [
  {
   "source": [
    "# Funciones lambda"
   ],
   "cell_type": "markdown",
   "metadata": {}
  },
  {
   "cell_type": "code",
   "execution_count": 11,
   "metadata": {},
   "outputs": [
    {
     "output_type": "stream",
     "name": "stdout",
     "text": [
      "-57\n"
     ]
    }
   ],
   "source": [
    "arr = [57, -57, 57, 57]\n",
    "\n",
    "print(sorted(list(set(arr)))[-2])"
   ]
  },
  {
   "cell_type": "code",
   "execution_count": 13,
   "metadata": {},
   "outputs": [
    {
     "output_type": "stream",
     "name": "stdout",
     "text": [
      "mini\n"
     ]
    }
   ],
   "source": [
    "# Input para agregar estudiantes: 2 <= students <= 10\n",
    "students      = [[input(), float(input())] for _ in range(int(input()))]\n",
    "\n",
    "smin          = min(students, key=lambda v: v[1])           # La menor calificación\n",
    "students      = [s for s in students if s[1] > smin[1]]     # Filtramos si hay más minimas calificaciones\n",
    "newStudents   = sorted(students, key=lambda x: x[1])        # Ordenamos por la cantidad\n",
    "second_places = [s for s in newStudents if s[1] == newStudents[0][1]]   # Las segundas menores calificaciones\n",
    "\n",
    "for s in sorted(second_places): # Solo para imprimer uno por uno los nombres en orden alfabetico\n",
    "    print(s[0])"
   ]
  },
  {
   "cell_type": "code",
   "execution_count": null,
   "metadata": {},
   "outputs": [],
   "source": []
  }
 ]
}