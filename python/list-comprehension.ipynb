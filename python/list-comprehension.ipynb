{
 "metadata": {
  "language_info": {
   "codemirror_mode": {
    "name": "ipython",
    "version": 3
   },
   "file_extension": ".py",
   "mimetype": "text/x-python",
   "name": "python",
   "nbconvert_exporter": "python",
   "pygments_lexer": "ipython3",
   "version": "3.8.2"
  },
  "orig_nbformat": 4,
  "kernelspec": {
   "name": "python3",
   "display_name": "Python 3.8.2 64-bit ('usr')"
  },
  "interpreter": {
   "hash": "5edc29c2ed010d6458d71a83433b383a96a8cbd3efe8531bc90c4b8a5b8bcec9"
  }
 },
 "nbformat": 4,
 "nbformat_minor": 2,
 "cells": [
  {
   "source": [
    "# Comprension de listas\n",
    "\n",
    "Un ejemplo muy básico de una comprensión de listas puede ser este."
   ],
   "cell_type": "markdown",
   "metadata": {}
  },
  {
   "source": [
    "list_1 = [x for x in range(1, 10)]\n",
    "print(list_1)"
   ],
   "cell_type": "code",
   "metadata": {},
   "execution_count": 1,
   "outputs": [
    {
     "output_type": "stream",
     "name": "stdout",
     "text": [
      "[1, 2, 3, 4, 5, 6, 7, 8, 9]\n"
     ]
    }
   ]
  },
  {
   "source": [
    "\"\"\"De una lista de enteros positivos de tamaño N | N > 0 , obten los elementos que sean pares\"\"\"\n",
    "\n",
    "n = 25\n",
    "\n",
    "# evens - n + 1 para que n sea incluido\n",
    "evens = [x for x in range(1, n + 1) if x % 2 == 0]\n",
    "print(evens);"
   ],
   "cell_type": "code",
   "metadata": {},
   "execution_count": 8,
   "outputs": [
    {
     "output_type": "stream",
     "name": "stdout",
     "text": [
      "[2, 4, 6, 8, 10, 12, 14, 16, 18, 20, 22, 24]\n"
     ]
    }
   ]
  },
  {
   "source": [
    "\"\"\"De una lista de enteros positivos de tamaño N | N > 0 , obten los elementos que sean impares\"\"\"\n",
    "\n",
    "n = 25\n",
    "\n",
    "# evens - n + 1 para que n sea incluido\n",
    "evens = [x for x in range(1, n + 1) if x % 2 != 0]\n",
    "print(evens);"
   ],
   "cell_type": "code",
   "metadata": {},
   "execution_count": 9,
   "outputs": [
    {
     "output_type": "stream",
     "name": "stdout",
     "text": [
      "[1, 3, 5, 7, 9, 11, 13, 15, 17, 19, 21, 23, 25]\n"
     ]
    }
   ]
  },
  {
   "source": [
    "Ahora podemos realizar operaciones más complejas en lineas simples, y de desta forma\n",
    "podemos abstraer ciclos mas complejos en algo más sencillo."
   ],
   "cell_type": "markdown",
   "metadata": {}
  },
  {
   "cell_type": "code",
   "execution_count": 19,
   "metadata": {
    "tags": []
   },
   "outputs": [
    {
     "output_type": "stream",
     "name": "stdout",
     "text": [
      "[0, 0, 0, 0, 0, 0, 0, 0, 0, 0, 0, 0, 0, 0, 0, 0, 0, 0, 0, 0]\n"
     ]
    }
   ],
   "source": [
    "def zeros(n = 0):\n",
    "    if n <= 0:\n",
    "        return []\n",
    "    return [0 for x in range(n)]\n",
    "\n",
    "list_of_zeros = zeros(20)\n",
    "print(list_of_zeros)"
   ]
  },
  {
   "cell_type": "code",
   "execution_count": 118,
   "metadata": {},
   "outputs": [
    {
     "output_type": "stream",
     "name": "stdout",
     "text": [
      "With loops: [[0, 0, 0], [0, 0, 1], [0, 0, 2], [0, 1, 0], [0, 1, 1]]\nWith list comprehension: [[0, 0, 0], [0, 0, 1], [0, 0, 2], [0, 1, 0], [0, 1, 1]]\nlist1 and list2, are the same?: True\n"
     ]
    }
   ],
   "source": [
    "x = 0\n",
    "y = 1\n",
    "z = 2\n",
    "n = 3\n",
    "\n",
    "# With Loops\n",
    "list1 = []\n",
    "for i in range(n):\n",
    "    for j in range(n):\n",
    "        for k in range(n):\n",
    "            if (i <= x and j <= y and k <= z and i + j + k != n):\n",
    "                list1.append([i, j, k])\n",
    "\n",
    "print('With loops: ' + str(list1))\n",
    "\n",
    "# With list comprehension\n",
    "list2 = [[i, j, k] for i in range(n) if i <= x for j in range(n) if j <= y for k in range(n) if k <= z and i + j + k != n]\n",
    "print('With list comprehension: ' + str(list2))\n",
    "\n",
    "print('list1 and list2, are the same?: ' + str(list1 == list2))"
   ]
  },
  {
   "cell_type": "code",
   "execution_count": 116,
   "metadata": {},
   "outputs": [
    {
     "output_type": "stream",
     "name": "stdout",
     "text": [
      "[[0, 0, 0], [0, 0, 1], [0, 0, 2], [0, 1, 0], [0, 1, 1], [1, 0, 0], [1, 0, 1], [1, 1, 0], [1, 1, 2]]\n"
     ]
    }
   ],
   "source": [
    "before_clean = [[i, j, k] for i in range(x + 1) for j in range(y + 1) for k in range(z + 1) if i + j + k != n]\n",
    "\n",
    "print(before_clean)"
   ]
  },
  {
   "cell_type": "code",
   "execution_count": null,
   "metadata": {},
   "outputs": [],
   "source": []
  }
 ]
}